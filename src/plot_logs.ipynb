{
 "cells": [
  {
   "cell_type": "code",
   "execution_count": null,
   "metadata": {},
   "outputs": [],
   "source": [
    "import os\n",
    "import matplotlib.pyplot as plt\n",
    "import numpy as np\n",
    "import yaml\n",
    "from argparse import ArgumentParser\n",
    "\n",
    "plt.rcParams.update({\n",
    "    \"text.usetex\": True,\n",
    "    \"font.family\": \"Helvetica\",\n",
    "    \"font.size\": 20,\n",
    "})\n",
    "\n",
    "script_dir = os.path.dirname(os.path.abspath(''))\n",
    "\n",
    "# ----------------------------------------------------------------------------------- #\n",
    "\n",
    "log_file_paths = [\n",
    "    f\"{script_dir}/experiments/output/physical_im/J_0.1_do/2023-09-01_11:07:27+0200/logs.yaml\",\n",
    "]  # paths to files with logs\n",
    "rows_number = 1  # number of rows in a figure\n",
    "columns_number = 1  # number of columns in a figure\n",
    "\n",
    "# path to the output *.pdf file\n",
    "output_path = f\"{script_dir}/../6467a173cb828c16e8ae9ac3/learning_curves.pdf\"\n",
    "\n",
    "# ----------------------------------------------------------------------------------- #\n",
    "fig = plt.figure(figsize=(columns_number * 6.4 / 1.5, rows_number * 4.8 / 1.5))\n",
    "for k, path in enumerate(log_file_paths):\n",
    "    with open(path, \"r\") as log_file:\n",
    "        try:\n",
    "            log = yaml.safe_load(log_file)\n",
    "        except yaml.YAMLError as exc:\n",
    "            print(exc)\n",
    "    epochs_number = int(log[\"training_params\"][\"epochs_number\"])\n",
    "    loss_value_exact_model = float(log[\"loss_value_exact_model\"])\n",
    "    initial_cosin_sim = float(log[\"initial_metrics\"][\"cosin_sim\"])\n",
    "    initial_mean_trace_dist = float(log[\"initial_metrics\"][\"mean_trace_dist\"])\n",
    "    cosin_sim = [initial_cosin_sim] + [float(log[i][\"cosin_sim\"]) for i in range(1, epochs_number + 1)]\n",
    "    mean_trace_dist = [initial_mean_trace_dist] + [float(log[i][\"mean_trace_dist\"]) for i in range(1, epochs_number + 1)]\n",
    "    loss_value = [float(log[i][\"loss_value\"]) for i in range(1, epochs_number + 1)]\n",
    "    plt.subplot(rows_number, columns_number, k + 1)\n",
    "    plt.plot(list(range(1, epochs_number + 2)), 1 - np.array(cosin_sim), 'b-')\n",
    "    plt.plot(list(range(1, epochs_number + 2)), mean_trace_dist, 'b--')\n",
    "    plt.yscale('log')\n",
    "    plt.xscale('log')\n",
    "    plt.legend([r\"$1 - F$\", r\"${\\rm err}$\"],frameon=False)\n",
    "fig.text(0.5, -0.1, r\"${\\rm Epochs \\ number}$\", ha='center')\n",
    "fig.show()"
   ]
  },
  {
   "cell_type": "code",
   "execution_count": null,
   "metadata": {},
   "outputs": [],
   "source": [
    "fig.savefig(output_path, bbox_inches = 'tight')"
   ]
  }
 ],
 "metadata": {
  "kernelspec": {
   "display_name": "Python 3",
   "language": "python",
   "name": "python3"
  },
  "language_info": {
   "codemirror_mode": {
    "name": "ipython",
    "version": 3
   },
   "file_extension": ".py",
   "mimetype": "text/x-python",
   "name": "python",
   "nbconvert_exporter": "python",
   "pygments_lexer": "ipython3",
   "version": "3.11.6"
  },
  "orig_nbformat": 4
 },
 "nbformat": 4,
 "nbformat_minor": 2
}
